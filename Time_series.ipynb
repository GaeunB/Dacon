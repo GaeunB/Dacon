{
  "nbformat": 4,
  "nbformat_minor": 0,
  "metadata": {
    "colab": {
      "provenance": []
    },
    "kernelspec": {
      "name": "python3",
      "display_name": "Python 3"
    },
    "language_info": {
      "name": "python"
    }
  },
  "cells": [
    {
      "cell_type": "code",
      "execution_count": 1,
      "metadata": {
        "id": "gq7LYMLDzT6m"
      },
      "outputs": [],
      "source": [
        "#아파트 실거래가 예측"
      ]
    },
    {
      "cell_type": "code",
      "source": [],
      "metadata": {
        "id": "9Vj5yZAwDqp1"
      },
      "execution_count": null,
      "outputs": []
    }
  ]
}